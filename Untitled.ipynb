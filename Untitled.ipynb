{
 "cells": [
  {
   "cell_type": "markdown",
   "metadata": {
    "slideshow": {
     "slide_type": "slide"
    }
   },
   "source": [
    "Superhelpful explanatory text"
   ]
  },
  {
   "cell_type": "markdown",
   "metadata": {},
   "source": [
    "# Title\n",
    "text\n",
    "## Subtitle"
   ]
  },
  {
   "cell_type": "markdown",
   "metadata": {},
   "source": [
    "We can do _italics_ and we can do **bold**"
   ]
  },
  {
   "cell_type": "markdown",
   "metadata": {},
   "source": [
    "We can do bulleted lists\n",
    "- Listitem 1\n",
    "- item 2\n",
    "    - item 2.1"
   ]
  },
  {
   "cell_type": "markdown",
   "metadata": {},
   "source": [
    "Here is a formula: $1+1=3$"
   ]
  },
  {
   "cell_type": "code",
   "execution_count": 7,
   "metadata": {
    "collapsed": false
   },
   "outputs": [
    {
     "name": "stderr",
     "output_type": "stream",
     "text": [
      "Loading required package: BiocGenerics\n",
      "Loading required package: parallel\n",
      "\n",
      "Attaching package: 'BiocGenerics'\n",
      "\n",
      "The following objects are masked from 'package:parallel':\n",
      "\n",
      "    clusterApply, clusterApplyLB, clusterCall, clusterEvalQ,\n",
      "    clusterExport, clusterMap, parApply, parCapply, parLapply,\n",
      "    parLapplyLB, parRapply, parSapply, parSapplyLB\n",
      "\n",
      "The following objects are masked from 'package:stats':\n",
      "\n",
      "    IQR, mad, xtabs\n",
      "\n",
      "The following objects are masked from 'package:base':\n",
      "\n",
      "    anyDuplicated, append, as.data.frame, as.vector, cbind, colnames,\n",
      "    do.call, duplicated, eval, evalq, Filter, Find, get, grep, grepl,\n",
      "    intersect, is.unsorted, lapply, lengths, Map, mapply, match, mget,\n",
      "    order, paste, pmax, pmax.int, pmin, pmin.int, Position, rank,\n",
      "    rbind, Reduce, rownames, sapply, setdiff, sort, table, tapply,\n",
      "    union, unique, unlist, unsplit\n",
      "\n",
      "Welcome to Bioconductor\n",
      "\n",
      "    Vignettes contain introductory material; view with\n",
      "    'browseVignettes()'. To cite Bioconductor, see\n",
      "    'citation(\"Biobase\")', and for packages 'citation(\"pkgname\")'.\n",
      "\n"
     ]
    }
   ],
   "source": [
    "library(Biobase)"
   ]
  },
  {
   "cell_type": "code",
   "execution_count": 8,
   "metadata": {
    "collapsed": false,
    "slideshow": {
     "slide_type": "slide"
    }
   },
   "outputs": [],
   "source": [
    "data(geneData)\n",
    "data(geneCovariate)"
   ]
  },
  {
   "cell_type": "code",
   "execution_count": 9,
   "metadata": {
    "collapsed": false,
    "slideshow": {
     "slide_type": "subslide"
    }
   },
   "outputs": [
    {
     "data": {
      "text/html": [
       "<table>\n",
       "<thead><tr><th></th><th scope=col>A</th><th scope=col>B</th><th scope=col>C</th><th scope=col>D</th><th scope=col>E</th><th scope=col>F</th><th scope=col>G</th><th scope=col>H</th><th scope=col>I</th><th scope=col>J</th><th scope=col></th><th scope=col>Q</th><th scope=col>R</th><th scope=col>S</th><th scope=col>T</th><th scope=col>U</th><th scope=col>V</th><th scope=col>W</th><th scope=col>X</th><th scope=col>Y</th><th scope=col>Z</th></tr></thead>\n",
       "<tbody>\n",
       "\t<tr><th scope=row>AFFX-MurIL2_at</th><td>192.742     </td><td>85.7533     </td><td>176.757     </td><td>135.575     </td><td>64.4939     </td><td>76.3569     </td><td>160.505     </td><td>65.9631     </td><td>56.9039     </td><td>135.608     </td><td><e2><8b><af></td><td>179.845     </td><td>152.467     </td><td>180.834     </td><td>85.4146     </td><td>157.989     </td><td>146.8       </td><td>93.8829     </td><td>103.855     </td><td>64.434      </td><td>175.615     </td></tr>\n",
       "\t<tr><th scope=row>AFFX-MurIL10_at</th><td>97.137      </td><td>126.196     </td><td>77.9216     </td><td>93.3713     </td><td>24.3986     </td><td>85.5088     </td><td>98.9086     </td><td>81.6932     </td><td>97.8015     </td><td>90.4838     </td><td><e2><8b><af></td><td>87.6806     </td><td>108.032     </td><td>134.263     </td><td>91.4031     </td><td>-8.68811    </td><td>85.0212     </td><td>79.2998     </td><td>71.6552     </td><td>64.2369     </td><td>78.7068     </td></tr>\n",
       "\t<tr><th scope=row>AFFX-MurIL4_at</th><td>45.8192     </td><td>8.83135     </td><td>33.0632     </td><td>28.7072     </td><td>5.94492     </td><td>28.2925     </td><td>30.9694     </td><td>14.7923     </td><td>14.2399     </td><td>34.4874     </td><td><e2><8b><af></td><td>32.7911     </td><td>33.5292     </td><td>19.8172     </td><td>20.419      </td><td>26.872      </td><td>31.1488     </td><td>22.342      </td><td>19.0135     </td><td>12.1686     </td><td>17.378      </td></tr>\n",
       "\t<tr><th scope=row>AFFX-MurFAS_at</th><td>22.5445     </td><td>3.60093     </td><td>14.6883     </td><td>12.3397     </td><td>36.8663     </td><td>11.2568     </td><td>23.0034     </td><td>16.2134     </td><td>12.0375     </td><td>4.54978     </td><td><e2><8b><af></td><td>15.9488     </td><td>14.6753     </td><td>-7.91911    </td><td>12.8875     </td><td>11.9186     </td><td>12.8324     </td><td>11.139      </td><td>7.55564     </td><td>19.9849     </td><td>8.96849     </td></tr>\n",
       "\t<tr><th scope=row>AFFX-BioB-5_at</th><td>96.7875     </td><td>30.438      </td><td>46.1271     </td><td>70.9319     </td><td>56.1744     </td><td>42.6756     </td><td>86.5156     </td><td>30.7927     </td><td>19.7183     </td><td>46.352      </td><td><e2><8b><af></td><td>58.6239     </td><td>114.062     </td><td>93.4402     </td><td>22.5168     </td><td>48.6462     </td><td>90.2215     </td><td>42.0053     </td><td>57.5738     </td><td>44.8216     </td><td>61.7044     </td></tr>\n",
       "\t<tr><th scope=row>AFFX-BioB-M_at</th><td>89.073      </td><td>25.8461     </td><td>57.2033     </td><td>69.9766     </td><td>49.5822     </td><td>26.1262     </td><td>75.0083     </td><td>42.3352     </td><td>41.1207     </td><td>91.5307     </td><td><e2><8b><af></td><td>58.1331     </td><td>104.122     </td><td>115.831     </td><td>58.1224     </td><td>73.4221     </td><td>64.6066     </td><td>40.3068     </td><td>41.8209     </td><td>46.1087     </td><td>49.4122     </td></tr>\n",
       "</tbody>\n",
       "</table>\n"
      ],
      "text/latex": [
       "\\begin{tabular}{r|llllllllllllllllllllllllll}\n",
       "  & A & B & C & D & E & F & G & H & I & J &  & Q & R & S & T & U & V & W & X & Y & Z\\\\\n",
       "\\hline\n",
       "\tAFFX-MurIL2_at & 192.742      & 85.7533      & 176.757      & 135.575      & 64.4939      & 76.3569      & 160.505      & 65.9631      & 56.9039      & 135.608      & <e2><8b><af> & 179.845      & 152.467      & 180.834      & 85.4146      & 157.989      & 146.8        & 93.8829      & 103.855      & 64.434       & 175.615     \\\\\n",
       "\tAFFX-MurIL10_at & 97.137       & 126.196      & 77.9216      & 93.3713      & 24.3986      & 85.5088      & 98.9086      & 81.6932      & 97.8015      & 90.4838      & <e2><8b><af> & 87.6806      & 108.032      & 134.263      & 91.4031      & -8.68811     & 85.0212      & 79.2998      & 71.6552      & 64.2369      & 78.7068     \\\\\n",
       "\tAFFX-MurIL4_at & 45.8192      & 8.83135      & 33.0632      & 28.7072      & 5.94492      & 28.2925      & 30.9694      & 14.7923      & 14.2399      & 34.4874      & <e2><8b><af> & 32.7911      & 33.5292      & 19.8172      & 20.419       & 26.872       & 31.1488      & 22.342       & 19.0135      & 12.1686      & 17.378      \\\\\n",
       "\tAFFX-MurFAS_at & 22.5445      & 3.60093      & 14.6883      & 12.3397      & 36.8663      & 11.2568      & 23.0034      & 16.2134      & 12.0375      & 4.54978      & <e2><8b><af> & 15.9488      & 14.6753      & -7.91911     & 12.8875      & 11.9186      & 12.8324      & 11.139       & 7.55564      & 19.9849      & 8.96849     \\\\\n",
       "\tAFFX-BioB-5_at & 96.7875      & 30.438       & 46.1271      & 70.9319      & 56.1744      & 42.6756      & 86.5156      & 30.7927      & 19.7183      & 46.352       & <e2><8b><af> & 58.6239      & 114.062      & 93.4402      & 22.5168      & 48.6462      & 90.2215      & 42.0053      & 57.5738      & 44.8216      & 61.7044     \\\\\n",
       "\tAFFX-BioB-M_at & 89.073       & 25.8461      & 57.2033      & 69.9766      & 49.5822      & 26.1262      & 75.0083      & 42.3352      & 41.1207      & 91.5307      & <e2><8b><af> & 58.1331      & 104.122      & 115.831      & 58.1224      & 73.4221      & 64.6066      & 40.3068      & 41.8209      & 46.1087      & 49.4122     \\\\\n",
       "\\end{tabular}\n"
      ],
      "text/markdown": [
       "1. 192.742\n",
       "2. 97.137\n",
       "3. 45.8192\n",
       "4. 22.5445\n",
       "5. 96.7875\n",
       "6. 89.073\n",
       "7. 85.7533\n",
       "8. 126.196\n",
       "9. 8.83135\n",
       "10. 3.60093\n",
       "11. 30.438\n",
       "12. 25.8461\n",
       "13. 176.757\n",
       "14. 77.9216\n",
       "15. 33.0632\n",
       "16. 14.6883\n",
       "17. 46.1271\n",
       "18. 57.2033\n",
       "19. 135.575\n",
       "20. 93.3713\n",
       "21. 28.7072\n",
       "22. 12.3397\n",
       "23. 70.9319\n",
       "24. 69.9766\n",
       "25. 64.4939\n",
       "26. 24.3986\n",
       "27. 5.94492\n",
       "28. 36.8663\n",
       "29. 56.1744\n",
       "30. 49.5822\n",
       "31. 76.3569\n",
       "32. 85.5088\n",
       "33. 28.2925\n",
       "34. 11.2568\n",
       "35. 42.6756\n",
       "36. 26.1262\n",
       "37. 160.505\n",
       "38. 98.9086\n",
       "39. 30.9694\n",
       "40. 23.0034\n",
       "41. 86.5156\n",
       "42. 75.0083\n",
       "43. 65.9631\n",
       "44. 81.6932\n",
       "45. 14.7923\n",
       "46. 16.2134\n",
       "47. 30.7927\n",
       "48. 42.3352\n",
       "49. 56.9039\n",
       "50. 97.8015\n",
       "51. 14.2399\n",
       "52. 12.0375\n",
       "53. 19.7183\n",
       "54. 41.1207\n",
       "55. 135.608\n",
       "56. 90.4838\n",
       "57. 34.4874\n",
       "58. 4.54978\n",
       "59. 46.352\n",
       "60. 91.5307\n",
       "61. 63.4432\n",
       "62. 70.5733\n",
       "63. 20.3521\n",
       "64. 8.51782\n",
       "65. 39.1326\n",
       "66. 39.9136\n",
       "67. 78.2126\n",
       "68. 94.5418\n",
       "69. 14.1554\n",
       "70. 27.2852\n",
       "71. 41.7698\n",
       "72. 49.8397\n",
       "73. 83.0943\n",
       "74. 75.3455\n",
       "75. 20.6251\n",
       "76. 10.1616\n",
       "77. 80.2197\n",
       "78. 63.4794\n",
       "79. 89.3372\n",
       "80. 68.5827\n",
       "81. 15.9231\n",
       "82. 20.2488\n",
       "83. 36.4903\n",
       "84. 24.7007\n",
       "85. 91.0615\n",
       "86. 87.405\n",
       "87. 20.1579\n",
       "88. 15.7849\n",
       "89. 36.4021\n",
       "90. 47.4641\n",
       "91. 95.9377\n",
       "92. 84.4581\n",
       "93. 27.8139\n",
       "94. 14.3276\n",
       "95. 35.3054\n",
       "96. 47.3578\n",
       "97. 179.845\n",
       "98. 87.6806\n",
       "99. 32.7911\n",
       "100. 15.9488\n",
       "101. 58.6239\n",
       "102. 58.1331\n",
       "103. 152.467\n",
       "104. 108.032\n",
       "105. 33.5292\n",
       "106. 14.6753\n",
       "107. 114.062\n",
       "108. 104.122\n",
       "109. 180.834\n",
       "110. 134.263\n",
       "111. 19.8172\n",
       "112. -7.91911\n",
       "113. 93.4402\n",
       "114. 115.831\n",
       "115. 85.4146\n",
       "116. 91.4031\n",
       "117. 20.419\n",
       "118. 12.8875\n",
       "119. 22.5168\n",
       "120. 58.1224\n",
       "121. 157.989\n",
       "122. -8.68811\n",
       "123. 26.872\n",
       "124. 11.9186\n",
       "125. 48.6462\n",
       "126. 73.4221\n",
       "127. 146.8\n",
       "128. 85.0212\n",
       "129. 31.1488\n",
       "130. 12.8324\n",
       "131. 90.2215\n",
       "132. 64.6066\n",
       "133. 93.8829\n",
       "134. 79.2998\n",
       "135. 22.342\n",
       "136. 11.139\n",
       "137. 42.0053\n",
       "138. 40.3068\n",
       "139. 103.855\n",
       "140. 71.6552\n",
       "141. 19.0135\n",
       "142. 7.55564\n",
       "143. 57.5738\n",
       "144. 41.8209\n",
       "145. 64.434\n",
       "146. 64.2369\n",
       "147. 12.1686\n",
       "148. 19.9849\n",
       "149. 44.8216\n",
       "150. 46.1087\n",
       "151. 175.615\n",
       "152. 78.7068\n",
       "153. 17.378\n",
       "154. 8.96849\n",
       "155. 61.7044\n",
       "156. 49.4122\n",
       "\n",
       "\n"
      ],
      "text/plain": [
       "                       A         B        C        D        E       F        G\n",
       "AFFX-MurIL2_at  192.7420  85.75330 176.7570 135.5750 64.49390 76.3569 160.5050\n",
       "AFFX-MurIL10_at  97.1370 126.19600  77.9216  93.3713 24.39860 85.5088  98.9086\n",
       "AFFX-MurIL4_at   45.8192   8.83135  33.0632  28.7072  5.94492 28.2925  30.9694\n",
       "AFFX-MurFAS_at   22.5445   3.60093  14.6883  12.3397 36.86630 11.2568  23.0034\n",
       "AFFX-BioB-5_at   96.7875  30.43800  46.1271  70.9319 56.17440 42.6756  86.5156\n",
       "AFFX-BioB-M_at   89.0730  25.84610  57.2033  69.9766 49.58220 26.1262  75.0083\n",
       "                      H       I         J        K       L       M       N\n",
       "AFFX-MurIL2_at  65.9631 56.9039 135.60800 63.44320 78.2126 83.0943 89.3372\n",
       "AFFX-MurIL10_at 81.6932 97.8015  90.48380 70.57330 94.5418 75.3455 68.5827\n",
       "AFFX-MurIL4_at  14.7923 14.2399  34.48740 20.35210 14.1554 20.6251 15.9231\n",
       "AFFX-MurFAS_at  16.2134 12.0375   4.54978  8.51782 27.2852 10.1616 20.2488\n",
       "AFFX-BioB-5_at  30.7927 19.7183  46.35200 39.13260 41.7698 80.2197 36.4903\n",
       "AFFX-BioB-M_at  42.3352 41.1207  91.53070 39.91360 49.8397 63.4794 24.7007\n",
       "                      O       P        Q        R         S       T         U\n",
       "AFFX-MurIL2_at  91.0615 95.9377 179.8450 152.4670 180.83400 85.4146 157.98900\n",
       "AFFX-MurIL10_at 87.4050 84.4581  87.6806 108.0320 134.26300 91.4031  -8.68811\n",
       "AFFX-MurIL4_at  20.1579 27.8139  32.7911  33.5292  19.81720 20.4190  26.87200\n",
       "AFFX-MurFAS_at  15.7849 14.3276  15.9488  14.6753  -7.91911 12.8875  11.91860\n",
       "AFFX-BioB-5_at  36.4021 35.3054  58.6239 114.0620  93.44020 22.5168  48.64620\n",
       "AFFX-BioB-M_at  47.4641 47.3578  58.1331 104.1220 115.83100 58.1224  73.42210\n",
       "                       V       W         X       Y         Z\n",
       "AFFX-MurIL2_at  146.8000 93.8829 103.85500 64.4340 175.61500\n",
       "AFFX-MurIL10_at  85.0212 79.2998  71.65520 64.2369  78.70680\n",
       "AFFX-MurIL4_at   31.1488 22.3420  19.01350 12.1686  17.37800\n",
       "AFFX-MurFAS_at   12.8324 11.1390   7.55564 19.9849   8.96849\n",
       "AFFX-BioB-5_at   90.2215 42.0053  57.57380 44.8216  61.70440\n",
       "AFFX-BioB-M_at   64.6066 40.3068  41.82090 46.1087  49.41220"
      ]
     },
     "metadata": {},
     "output_type": "display_data"
    }
   ],
   "source": [
    "head(geneData)"
   ]
  },
  {
   "cell_type": "code",
   "execution_count": 12,
   "metadata": {
    "collapsed": false
   },
   "outputs": [
    {
     "data": {
      "text/html": [
       "<table>\n",
       "<thead><tr><th></th><th scope=col>sex</th><th scope=col>type</th><th scope=col>score</th></tr></thead>\n",
       "<tbody>\n",
       "\t<tr><th scope=row>A</th><td>Female</td><td>Control</td><td>0.75</td></tr>\n",
       "\t<tr><th scope=row>B</th><td>Male</td><td>Case</td><td>0.4</td></tr>\n",
       "\t<tr><th scope=row>C</th><td>Male</td><td>Control</td><td>0.73</td></tr>\n",
       "\t<tr><th scope=row>D</th><td>Male</td><td>Case</td><td>0.42</td></tr>\n",
       "\t<tr><th scope=row>E</th><td>Female</td><td>Case</td><td>0.93</td></tr>\n",
       "\t<tr><th scope=row>F</th><td>Male</td><td>Control</td><td>0.22</td></tr>\n",
       "</tbody>\n",
       "</table>\n"
      ],
      "text/latex": [
       "\\begin{tabular}{r|lll}\n",
       "  & sex & type & score\\\\\n",
       "\\hline\n",
       "\tA & Female & Control & 0.75\\\\\n",
       "\tB & Male & Case & 0.4\\\\\n",
       "\tC & Male & Control & 0.73\\\\\n",
       "\tD & Male & Case & 0.42\\\\\n",
       "\tE & Female & Case & 0.93\\\\\n",
       "\tF & Male & Control & 0.22\\\\\n",
       "\\end{tabular}\n"
      ],
      "text/plain": [
       "     sex    type score\n",
       "A Female Control  0.75\n",
       "B   Male    Case  0.40\n",
       "C   Male Control  0.73\n",
       "D   Male    Case  0.42\n",
       "E Female    Case  0.93\n",
       "F   Male Control  0.22"
      ]
     },
     "metadata": {},
     "output_type": "display_data"
    }
   ],
   "source": [
    "head(geneCovariate)"
   ]
  },
  {
   "cell_type": "code",
   "execution_count": 14,
   "metadata": {
    "collapsed": false
   },
   "outputs": [
    {
     "data": {
      "image/png": "[encoded data removed]",
      "text/plain": [
       "plot without title"
      ]
     },
     "metadata": {
      "image/svg+xml": {
       "isolated": true
      }
     },
     "output_type": "display_data"
    }
   ],
   "source": [
    "plot(geneCovariate[,2])"
   ]
  },
  {
   "cell_type": "markdown",
   "metadata": {},
   "source": [
    "# Comparison of the data\n",
    "This compares 2nd and 5th data sets"
   ]
  },
  {
   "cell_type": "code",
   "execution_count": 15,
   "metadata": {
    "collapsed": false
   },
   "outputs": [
    {
     "data": {
      "image/png": "[encoded data removed]",
      "text/plain": [
       "plot without title"
      ]
     },
     "metadata": {
      "image/svg+xml": {
       "isolated": true
      }
     },
     "output_type": "display_data"
    }
   ],
   "source": [
    "plot(geneData[,2],geneData[,5])"
   ]
  },
  {
   "cell_type": "markdown",
   "metadata": {},
   "source": [
    "This compares 2nd and 11th datasets"
   ]
  },
  {
   "cell_type": "code",
   "execution_count": 17,
   "metadata": {
    "collapsed": false
   },
   "outputs": [
    {
     "data": {
      "image/png": "[encoded data removed]",
      "text/plain": [
       "plot without title"
      ]
     },
     "metadata": {
      "image/svg+xml": {
       "isolated": true
      }
     },
     "output_type": "display_data"
    }
   ],
   "source": [
    "plot(geneData[,2],geneData[,11])"
   ]
  },
  {
   "cell_type": "code",
   "execution_count": 23,
   "metadata": {
    "collapsed": false
   },
   "outputs": [
    {
     "data": {
      "text/html": [
       "\"The correlation between 2 and 5 is:\""
      ],
      "text/latex": [
       "\"The correlation between 2 and 5 is:\""
      ],
      "text/markdown": [
       "\"The correlation between 2 and 5 is:\""
      ],
      "text/plain": [
       "[1] \"The correlation between 2 and 5 is:\""
      ]
     },
     "metadata": {},
     "output_type": "display_data"
    },
    {
     "data": {
      "text/html": [
       "0.970390572536259"
      ],
      "text/latex": [
       "0.970390572536259"
      ],
      "text/markdown": [
       "0.970390572536259"
      ],
      "text/plain": [
       "[1] 0.9703906"
      ]
     },
     "metadata": {},
     "output_type": "display_data"
    }
   ],
   "source": [
    "'The correlation between 2 and 5 is:'\n",
    "cor(geneData[,2],geneData[,5])"
   ]
  },
  {
   "cell_type": "code",
   "execution_count": null,
   "metadata": {
    "collapsed": true
   },
   "outputs": [],
   "source": []
  }
 ],
 "metadata": {
  "celltoolbar": "Slideshow",
  "kernelspec": {
   "display_name": "R",
   "language": "R",
   "name": "ir"
  },
  "language_info": {
   "codemirror_mode": "r",
   "file_extension": ".r",
   "mimetype": "text/x-r-source",
   "name": "R",
   "pygments_lexer": "r",
   "version": "3.2.4"
  }
 },
 "nbformat": 4,
 "nbformat_minor": 0
}
